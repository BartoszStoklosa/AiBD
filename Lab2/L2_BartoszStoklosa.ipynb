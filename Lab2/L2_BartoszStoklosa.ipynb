{
 "cells": [
  {
   "cell_type": "markdown",
   "metadata": {},
   "source": [
    "Bartosz Stokłosa\n",
    "\n",
    "Gr 1"
   ]
  },
  {
   "cell_type": "code",
   "execution_count": 64,
   "metadata": {},
   "outputs": [],
   "source": [
    "# pip install sqlalchemy psycopg2 pandas\n"
   ]
  },
  {
   "cell_type": "markdown",
   "metadata": {},
   "source": [
    "1."
   ]
  },
  {
   "cell_type": "code",
   "execution_count": 65,
   "metadata": {},
   "outputs": [
    {
     "name": "stdout",
     "output_type": "stream",
     "text": [
      "16\n"
     ]
    }
   ],
   "source": [
    "from lzma import FORMAT_ALONE\n",
    "from tkinter.tix import Select\n",
    "import psycopg2 as pg\n",
    "import pandas as pd\n",
    "from pandas import read_sql\n",
    "\n",
    "connection = pg.connect(host='pgsql-196447.vipserv.org', port=5432, dbname='wbauer_adb', user='wbauer_adb', password='adb2020')\n",
    "\n",
    "df = read_sql('select distinct name from category',con=connection)\n",
    "print(df.size)\n"
   ]
  },
  {
   "cell_type": "markdown",
   "metadata": {},
   "source": [
    "2."
   ]
  },
  {
   "cell_type": "code",
   "execution_count": 66,
   "metadata": {},
   "outputs": [
    {
     "name": "stdout",
     "output_type": "stream",
     "text": [
      "           name\n",
      "0        Action\n",
      "1     Animation\n",
      "2      Children\n",
      "3      Classics\n",
      "4        Comedy\n",
      "5   Documentary\n",
      "6         Drama\n",
      "7        Family\n",
      "8       Foreign\n",
      "9         Games\n",
      "10       Horror\n",
      "11        Music\n",
      "12          New\n",
      "13       Sci-Fi\n",
      "14       Sports\n",
      "15       Travel\n"
     ]
    }
   ],
   "source": [
    "df = read_sql('select name from category order by name asc',con=connection)\n",
    "print(df)"
   ]
  },
  {
   "cell_type": "markdown",
   "metadata": {},
   "source": [
    "3."
   ]
  },
  {
   "cell_type": "code",
   "execution_count": 67,
   "metadata": {},
   "outputs": [
    {
     "name": "stdout",
     "output_type": "stream",
     "text": [
      "True\n"
     ]
    }
   ],
   "source": [
    "df = read_sql('select release_year from film order by release_year asc',con=connection)\n",
    "print(df[\"release_year\"].iloc[0] == df[\"release_year\"].iloc[-1])\n",
    "# Wszystkie daty wyporzyczenia filmów są takie same"
   ]
  },
  {
   "cell_type": "markdown",
   "metadata": {},
   "source": [
    "Ta sama data\n",
    "\n",
    "4.\n"
   ]
  },
  {
   "cell_type": "code",
   "execution_count": 68,
   "metadata": {},
   "outputs": [
    {
     "name": "stdout",
     "output_type": "stream",
     "text": [
      "   count\n",
      "0   7380\n"
     ]
    }
   ],
   "source": [
    "df = read_sql(\"select count(rental_date) from rental where rental_date BETWEEN '2005-07-01 00:00:00'::timestamp AND '2005-08-01 24:00:00'::timestamp\",con=connection)\n",
    "\n",
    "print((df))"
   ]
  },
  {
   "cell_type": "markdown",
   "metadata": {},
   "source": [
    "5."
   ]
  },
  {
   "cell_type": "code",
   "execution_count": 69,
   "metadata": {},
   "outputs": [
    {
     "name": "stdout",
     "output_type": "stream",
     "text": [
      "   count\n",
      "0      0\n"
     ]
    }
   ],
   "source": [
    "df = read_sql(\"select count(rental_date) from rental where rental_date BETWEEN '2010-02-01 00:00:00'::timestamp AND '2011-01-01 24:00:00'::timestamp\",con=connection)\n",
    "\n",
    "print((df))"
   ]
  },
  {
   "cell_type": "markdown",
   "metadata": {},
   "source": [
    "6."
   ]
  },
  {
   "cell_type": "code",
   "execution_count": 70,
   "metadata": {},
   "outputs": [
    {
     "name": "stdout",
     "output_type": "stream",
     "text": [
      "   amount  payment_id\n",
      "0   11.99       23757\n"
     ]
    }
   ],
   "source": [
    "df = read_sql(\"SELECT DISTINCT ON (amount) amount, payment_id FROM payment ORDER BY amount DESC LIMIT 1\",con=connection)\n",
    "\n",
    "print((df))\n"
   ]
  },
  {
   "cell_type": "markdown",
   "metadata": {},
   "source": [
    "7."
   ]
  },
  {
   "cell_type": "code",
   "execution_count": 71,
   "metadata": {},
   "outputs": [
    {
     "name": "stdout",
     "output_type": "stream",
     "text": [
      "    customer_id first_name  last_name     country\n",
      "0           284      Sonia    Gregory     Nigeria\n",
      "1           318      Brian      Wyman      Poland\n",
      "2           572     Sidney   Burleson      Poland\n",
      "3           409     Rodney    Moeller     Nigeria\n",
      "4           332    Stephen     Qualls  Bangladesh\n",
      "5           286      Velma      Lucas     Nigeria\n",
      "6            80    Marilyn       Ross     Nigeria\n",
      "7           198      Elsie     Kelley     Nigeria\n",
      "8           103     Gladys   Hamilton     Nigeria\n",
      "9           329      Frank   Waggoner  Bangladesh\n",
      "10          128   Marjorie     Tucker      Poland\n",
      "11           18      Carol     Garcia     Nigeria\n",
      "12          270       Leah     Curtis      Poland\n",
      "13          501      Ruben      Geary      Poland\n",
      "14          277       Olga    Jimenez     Nigeria\n",
      "15          156     Bertha   Ferguson     Nigeria\n",
      "16          280     Tracey    Barrett     Nigeria\n",
      "17          250         Jo     Fowler     Nigeria\n",
      "18          571    Johnnie   Chisholm      Poland\n",
      "19          562    Wallace      Slone     Nigeria\n",
      "20           21   Michelle      Clark  Bangladesh\n",
      "21          380    Russell    Brinson      Poland\n",
      "22          558     Jimmie  Eggleston      Poland\n",
      "23          232  Constance       Reid     Nigeria\n"
     ]
    }
   ],
   "source": [
    "df = read_sql(\"SELECT customer_id, first_name, last_name, country.country FROM customer INNER JOIN address ON address.address_id = customer.address_id INNER JOIN city ON address.city_id = city.city_id INNER JOIN country ON country.country_id = city.country_id where country.country = 'Poland' OR country.country='Nigeria' OR country.country='Bangladesh'\",con=connection)\n",
    "\n",
    "print(df)\n"
   ]
  },
  {
   "cell_type": "markdown",
   "metadata": {},
   "source": [
    "8."
   ]
  },
  {
   "cell_type": "code",
   "execution_count": 76,
   "metadata": {},
   "outputs": [
    {
     "name": "stdout",
     "output_type": "stream",
     "text": [
      "   staff_id first_name last_name    country\n",
      "0         1       Mike   Hillyer     Canada\n",
      "1         2        Jon  Stephens  Australia\n"
     ]
    }
   ],
   "source": [
    "df = read_sql(\"SELECT staff_id, first_name, last_name, country.country FROM staff INNER JOIN address ON address.address_id = staff.address_id INNER JOIN city ON address.city_id = city.city_id INNER JOIN country ON country.country_id = city.country_id\",con=connection)\n",
    "\n",
    "print(df)\n"
   ]
  },
  {
   "cell_type": "markdown",
   "metadata": {},
   "source": [
    "9."
   ]
  },
  {
   "cell_type": "code",
   "execution_count": 72,
   "metadata": {},
   "outputs": [
    {
     "name": "stdout",
     "output_type": "stream",
     "text": [
      "Empty DataFrame\n",
      "Columns: [staff_id, first_name, last_name, country]\n",
      "Index: []\n"
     ]
    }
   ],
   "source": [
    "df = read_sql(\"SELECT staff_id, first_name, last_name, country.country FROM staff INNER JOIN address ON address.address_id = staff.address_id INNER JOIN city ON address.city_id = city.city_id INNER JOIN country ON country.country_id = city.country_id where country.country='Spain' OR country.country='Argentina'\",con=connection)\n",
    "\n",
    "print(df)\n",
    "#DB jest pysty czyli nie ma żadnych pracowników z Hiszpani lub z Argentyny\n"
   ]
  },
  {
   "cell_type": "markdown",
   "metadata": {},
   "source": [
    "10."
   ]
  },
  {
   "cell_type": "code",
   "execution_count": 73,
   "metadata": {},
   "outputs": [
    {
     "name": "stdout",
     "output_type": "stream",
     "text": [
      "           name\n",
      "0        Sports\n",
      "1      Classics\n",
      "2           New\n",
      "3        Family\n",
      "4        Comedy\n",
      "5     Animation\n",
      "6        Travel\n",
      "7         Music\n",
      "8         Drama\n",
      "9        Horror\n",
      "10       Sci-Fi\n",
      "11        Games\n",
      "12  Documentary\n",
      "13      Foreign\n",
      "14       Action\n",
      "15     Children\n"
     ]
    }
   ],
   "source": [
    "df = read_sql(\"SELECT DISTINCT category.name FROM rental INNER JOIN inventory ON inventory.inventory_id = rental.inventory_id INNER JOIN film ON film.film_id = inventory.film_id INNER JOIN film_category ON film.film_id = film_category.film_id INNER JOIN category ON film_category.category_id = category.category_id \", con=connection)\n",
    "\n",
    "print(df)"
   ]
  },
  {
   "cell_type": "markdown",
   "metadata": {},
   "source": [
    "11.\n"
   ]
  },
  {
   "cell_type": "code",
   "execution_count": 77,
   "metadata": {},
   "outputs": [
    {
     "name": "stdout",
     "output_type": "stream",
     "text": [
      "           name\n",
      "0        Action\n",
      "1     Animation\n",
      "2      Children\n",
      "3      Classics\n",
      "4        Comedy\n",
      "5   Documentary\n",
      "6         Drama\n",
      "7        Family\n",
      "8       Foreign\n",
      "9         Games\n",
      "10       Horror\n",
      "11        Music\n",
      "12          New\n",
      "13       Sci-Fi\n",
      "14       Sports\n",
      "15       Travel\n"
     ]
    }
   ],
   "source": [
    "df = read_sql(\"SELECT DISTINCT category.name FROM rental INNER JOIN inventory ON inventory.inventory_id = rental.inventory_id INNER JOIN film ON film.film_id = inventory.film_id INNER JOIN film_category ON film.film_id = film_category.film_id INNER JOIN category ON film_category.category_id = category.category_id INNER JOIN customer ON rental.customer_id = customer.customer_id INNER JOIN address ON address.address_id = customer.address_id INNER JOIN city ON address.city_id = city.city_id INNER JOIN country ON country.country_id = city.country_id where country.country ='United States'\", con=connection)\n",
    "\n",
    "print(df)"
   ]
  },
  {
   "cell_type": "markdown",
   "metadata": {},
   "source": [
    "12."
   ]
  },
  {
   "cell_type": "code",
   "execution_count": 75,
   "metadata": {},
   "outputs": [
    {
     "name": "stdout",
     "output_type": "stream",
     "text": [
      "                title\n",
      "0     Bilko Anonymous\n",
      "1   Caribbean Liberty\n",
      "2    Casper Dragonfly\n",
      "3    Empire Malkovich\n",
      "4       Floats Garden\n",
      "..                ...\n",
      "64       Outlaw Hanky\n",
      "65    Panky Submarine\n",
      "66   Rider Caddyshack\n",
      "67          Won Dares\n",
      "68      Wyoming Storm\n",
      "\n",
      "[69 rows x 1 columns]\n"
     ]
    }
   ],
   "source": [
    "df = read_sql(\"SELECT title FROM film INNER JOIN film_actor ON film_actor.film_id = film.film_id INNER JOIN actor ON actor.actor_id = film_actor.actor_id where (actor.first_name = 'Olympia' AND actor.last_name = 'Pfeiffer') OR (actor.first_name = 'Julia' AND actor.last_name = 'Zellweger') OR (actor.first_name = 'Ellen' AND actor.last_name = 'Presley')\", con=connection)\n",
    "\n",
    "print(df)"
   ]
  }
 ],
 "metadata": {
  "kernelspec": {
   "display_name": "Python 3.8.8 ('base')",
   "language": "python",
   "name": "python3"
  },
  "language_info": {
   "codemirror_mode": {
    "name": "ipython",
    "version": 3
   },
   "file_extension": ".py",
   "mimetype": "text/x-python",
   "name": "python",
   "nbconvert_exporter": "python",
   "pygments_lexer": "ipython3",
   "version": "3.8.8"
  },
  "orig_nbformat": 4,
  "vscode": {
   "interpreter": {
    "hash": "ef90a757007ac2a3d514acded287cab365649e214908de8fd4d5036d287083aa"
   }
  }
 },
 "nbformat": 4,
 "nbformat_minor": 2
}
